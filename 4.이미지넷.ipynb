{
 "cells": [
  {
   "cell_type": "code",
   "execution_count": 181,
   "metadata": {},
   "outputs": [],
   "source": [
    "# 텐서플로를 활용한 구글넷 구현\n",
    "import tensorflow as tf\n",
    "from tensorflow.keras import Model, regularizers\n",
    "# Model: Keras에서 신경망 모델을 정의할 때 사용하는 기본 클래스\n",
    "# regularizers: 모델의 과적합 방지를 위한 정규화 도구 (L1, L2 정규화 등)\n",
    "\n",
    "\n",
    "from tensorflow.keras.layers import Flatten, Dense, Dropout, Conv2D, MaxPool2D, BatchNormalization, Activation, Input, AveragePooling2D, concatenate\n",
    "# Flatten: 다차원 입력을 1차원 벡터로 변환\n",
    "# Dense: 완전 연결층 (Fully Connected Layer)\n",
    "# Dropout: 과적합 방지를 위한 뉴런 랜덤 비활성화\n",
    "# Conv2D: 2D 합성곱 층 (Convolutional Layer)\n",
    "# MaxPool2D: 최대 풀링 층 (특징 맵 크기 축소)\n",
    "# BatchNormalization: 학습 속도 향상 및 안정화를 위한 배치 정규화\n",
    "# Activation: 활성화 함수 적용 (ReLU, Sigmoid 등)\n",
    "# Input: 모델의 입력 레이어 정의\n",
    "# AveragePooling2D: 평균 풀링 층 (특징 맵 크기 축소)\n",
    "# concatenate: 여러 레이어의 출력을 연결하는 층\n",
    "\n",
    "\n",
    "from tensorflow.keras.callbacks import ReduceLROnPlateau\n",
    "# ReduceLROnPlateau: 검증 손실이 개선되지 않을 경우 학습률(Learning Rate)을 자동으로 줄여주는 콜백 함수\n",
    "import matplotlib.pyplot as plt\n"
   ]
  },
  {
   "cell_type": "code",
   "execution_count": 182,
   "metadata": {},
   "outputs": [
    {
     "data": {
      "image/png": "[encoded data removed]",
      "text/plain": [
       "<Figure size 1000x200 with 5 Axes>"
      ]
     },
     "metadata": {},
     "output_type": "display_data"
    }
   ],
   "source": [
    "# 훈련 데이터와 테스트 데이터 로드\n",
    "(train_x, train_y), (test_x, test_y) = tf.keras.datasets.cifar10.load_data()\n",
    "num_classes = 10\n",
    "\n",
    "\n",
    "plt.figure(figsize=(10, 2))\n",
    "for i in range(5):\n",
    "    plt.subplot(1, 5, i + 1)\n",
    "    plt.imshow(train_x[i])\n",
    "    plt.title(f\"Label: {train_y[i][0]}\")\n",
    "    plt.axis(\"off\")\n",
    "\n",
    "\n",
    "plt.show()\n"
   ]
  },
  {
   "cell_type": "code",
   "execution_count": 183,
   "metadata": {},
   "outputs": [
    {
     "name": "stdout",
     "output_type": "stream",
     "text": [
      "스케일링 전 픽셀의 최대 값과 최소 값: 255 ~ 0\n",
      "스케일링 후 펙셀의 최대 값과 최소 값: 0.0 ~ 1.0\n"
     ]
    }
   ],
   "source": [
    "# 각 픽셀이 가지고 있는 값의 범위가 0 ~ 255 이하로 큰 편이다.\n",
    "# 따라서 스케일링을 통한 범위 조정이 필요하다.\n",
    "print(f\"스케일링 전 픽셀의 최대 값과 최소 값: {train_x.max()} ~ {train_x.min()}\")\n",
    "train_x = train_x / 255.0\n",
    "test_x = test_x / 255.0\n",
    "\n",
    "\n",
    "print(f\"스케일링 후 펙셀의 최대 값과 최소 값: {train_x.min()} ~ {train_x.max()}\")\n"
   ]
  },
  {
   "cell_type": "code",
   "execution_count": 184,
   "metadata": {},
   "outputs": [],
   "source": [
    "# 하이퍼 파라미터 설정\n",
    "image_size = (32, 32)\n",
    "batch_size = 64\n",
    "weight_decay = 5e-4\n",
    "learning_rate = 1e-2\n",
    "epochs = 40\n",
    "\n",
    "# 가중치 감소(Weight Decay)는 L2 정규화의 일종으로, 모델의 과적합(overfitting)을 방지하기 위해 사용.\n",
    "# weight_decay 값을 설정하면 모델의 가중치가 너무 커지는 것을 방지하여 일반화 성능을 향상.\n",
    "# 일반적으로 5e-4 (0.0005) 정도의 작은 값을 사용하여 모델의 학습을 안정화.\n",
    "# 1e-2 (0.01)는 비교적 큰 학습률로, 빠르게 학습을 진행하려는 설정.\n"
   ]
  },
  {
   "cell_type": "code",
   "execution_count": 185,
   "metadata": {},
   "outputs": [],
   "source": [
    "# 합성곱 블록 함수 구성\n",
    "# 입력 데이터 x를 합성곱 층에 통과시킨 뒤, 이어서 배치 정규화 층과 relu 활성화 함수층을 거친다.\n",
    "# 이 블록은 구글넷뿐만 아니라 여러 합성곱 신경망에서 살펴볼 수 있는 패턴으로\n",
    "# 모델이 이미지 데이터의 다양한 표현력을 빠르게 학습할 수 있다는 특징을 갖는다.\n",
    "# 합성곱 층 중간에 삽입되는 L2 규제는 모델의 과적합을 방지한다.\n",
    "\n",
    "\n",
    "def conv2d_bn_relu(x, filters, kernel_size, weight_decay=0.0, strides=1):\n",
    "    x = Conv2D(\n",
    "        filters,\n",
    "        kernel_size,\n",
    "        strides=strides,\n",
    "        padding=\"same\",\n",
    "        use_bias=False,\n",
    "        kernel_regularizer=regularizers.l2(weight_decay),\n",
    "    )(x)\n",
    "    x = BatchNormalization(scale=False, axis=3)(x)\n",
    "    x = Activation(\"relu\")(x)\n",
    "    return x\n"
   ]
  },
  {
   "cell_type": "code",
   "execution_count": 186,
   "metadata": {},
   "outputs": [],
   "source": [
    "# 입셉션 모듈 함수\n",
    "# 모듈은 입력 데이터를 받아 이를 네 개의 합성곱 블록에서 병렬적으로 처리한다\n",
    "# br0 블록에서는 1 * 1 합성곱 층이, br1에서는 3 * 3 합성곱 층이, br2에서는 5 * 5 합성곱 층이 내재된다.\n",
    "# br3에서는 최대 풀링 후 1 * 1 합성곱 층을 통해 채널 수를 조정한다.\n",
    "# 마지막으로 concatenate 함수를 사용해 결합하벼, 결합 방향을 채널 방향인 axis=3으로 설정한다.\n",
    "# filters_num_array는 각 블록마다 적용될 필터의 수를 담은 배열로, 총 네 개의 값을 요구한다.\n",
    "\n",
    "\n",
    "def inception_module(x, filters_num_array, weight_decay=0.0):\n",
    "    (br0_filters, br1_filters, br2_filters, br3_filters) = filters_num_array\n",
    "    br0 = conv2d_bn_relu(\n",
    "        x, filters=br0_filters, kernel_size=1, weight_decay=weight_decay\n",
    "    )\n",
    "    br1 = conv2d_bn_relu(\n",
    "        x, filters=br1_filters[0], kernel_size=1, weight_decay=weight_decay\n",
    "    )\n",
    "    br1 = conv2d_bn_relu(\n",
    "        br1, filters=br1_filters[1], kernel_size=3, weight_decay=weight_decay\n",
    "    )\n",
    "    br2 = conv2d_bn_relu(\n",
    "        x, filters=br2_filters[0], kernel_size=1, weight_decay=weight_decay\n",
    "    )\n",
    "    br2 = conv2d_bn_relu(br2, filters=br2_filters[1], kernel_size=5)\n",
    "    br3 = MaxPool2D(pool_size=3, strides=(1, 1), padding=\"same\")(x)\n",
    "    br3 = conv2d_bn_relu(\n",
    "        br3, filters=br3_filters, kernel_size=1, weight_decay=weight_decay\n",
    "    )\n",
    "    x = concatenate([br0, br1, br2, br3], axis=3)\n",
    "    return x\n"
   ]
  },
  {
   "cell_type": "code",
   "execution_count": 187,
   "metadata": {},
   "outputs": [],
   "source": [
    "# 구글넷 구축을 위한 함수\n",
    "def googlenet(input_shape, classes, weight_decay=0.0):\n",
    "    input = Input(shape=input_shape)\n",
    "    x = input\n",
    "\n",
    "    # Input 함수를 사용하여 입력 텐서를 정의하고, 이후 초기 합성곱 층을 거쳐 특징을 추출한다.\n",
    "    # 인셉션 모델을 통과하기 전, 합성곱 블록과 최대 풀링을 통해 이미지 사이즈가 축소된다.\n",
    "    x = conv2d_bn_relu(x, filters=64, kernel_size=1, weight_decay=weight_decay)\n",
    "    x = conv2d_bn_relu(x, filters=192, kernel_size=3, weight_decay=weight_decay)\n",
    "    x = MaxPool2D(pool_size=3, strides=2, padding=\"same\")(x)\n",
    "    # strides=2 → 커널이 2픽셀씩 이동하며 다운샘플링하여 출력 크기를 줄임.\n",
    "    # 풀링 연산에서 strides는 해상도를 얼마나 빨리 축소할지 결정하는 요소.\n",
    "\n",
    "    # 데이터는 총 9번의 인셉션 모둘을 거친다.\n",
    "    # 이 과정은 좀 더 복잡하고 다양한 이미지 특징을 학습할 수 있도록 한다.\n",
    "    x = inception_module(x, (64, (96, 128), (16, 32), 32), weight_decay=weight_decay)\n",
    "    x = inception_module(x, (128, (128, 192), (32, 96), 64), weight_decay=weight_decay)\n",
    "\n",
    "    # 인셉션 모듈 사이에는 최대 풀링 층이 위치해 있어, 특징 맵의 사이즈를 줄이고 특징만 보존한다.\n",
    "    # 또한 이는 계산량을 감소시키고, 과적합을 방지하는 역할도 수행한다.\n",
    "    x = MaxPool2D(pool_size=2, strides=2, padding=\"same\")(x)\n",
    "\n",
    "    x = inception_module(x, (192, (96, 208), (16, 48), 64), weight_decay=weight_decay)\n",
    "    x = inception_module(x, (160, (112, 224), (24, 64), 64), weight_decay=weight_decay)\n",
    "    x = inception_module(x, (128, (128, 256), (24, 64), 64), weight_decay=weight_decay)\n",
    "    x = inception_module(x, (112, (144, 288), (32, 64), 64), weight_decay=weight_decay)\n",
    "    x = inception_module(\n",
    "        x, (256, (160, 320), (32, 128), 128), weight_decay=weight_decay\n",
    "    )\n",
    "    x = MaxPool2D(pool_size=2, strides=2, padding=\"same\")(x)\n",
    "\n",
    "    x = inception_module(\n",
    "        x, (256, (160, 320), (32, 128), 128), weight_decay=weight_decay\n",
    "    )\n",
    "    x = inception_module(\n",
    "        x, (384, (192, 384), (48, 128), 128), weight_decay=weight_decay\n",
    "    )\n",
    "\n",
    "    # 네트워크의 마지막 부분에는 평균 풀링 층과 밀집 연결층이 있다.\n",
    "    # 풀링 층은 특징 맵을 작은 사이즈의 벡터로 압축하며,\n",
    "    # 밀집 연결 층은 정해진 클래스 수만큼 데이터의 확률을 표현하여 분류한다.\n",
    "    x = AveragePooling2D(pool_size=4, strides=1, padding=\"valid\")(x)\n",
    "\n",
    "    x = Flatten()(x)\n",
    "    output = Dense(classes, activation=\"softmax\")(x)\n",
    "    model = Model(input, output)\n",
    "    return model\n"
   ]
  },
  {
   "cell_type": "code",
   "execution_count": 188,
   "metadata": {},
   "outputs": [],
   "source": [
    "# 구글넷 정의 함수 모델 생성 및 컴파일\n",
    "googlenet = googlenet(\n",
    "    input_shape=(image_size[0], image_size[1], 3),\n",
    "    classes=num_classes,\n",
    "    weight_decay=weight_decay,\n",
    ")\n",
    "\n",
    "# momentum=0.9은 과거의 기울기를 90% 반영하여 학습을 빠르고 안정적으로 진행하는 역할을 한다.\n",
    "# 공이 경사면을 굴러 내려올 때 속도가 붙듯이, 모멘텀은 가중치 업데이트 시 이전 업데이트의 관성을 추가하며 지역 최소 값에 갇히지 않도록 도움을 준다.\n",
    "\n",
    "# 옵티마이저는 확률적 경사 하강법을 사용한다.\n",
    "optimizer = tf.keras.optimizers.SGD(learning_rate=learning_rate, momentum=0.9)\n",
    "googlenet.compile(\n",
    "    optimizer=optimizer, loss=\"sparse_categorical_crossentropy\", metrics=[\"accuracy\"]\n",
    ")\n"
   ]
  },
  {
   "cell_type": "code",
   "execution_count": 189,
   "metadata": {},
   "outputs": [
    {
     "name": "stdout",
     "output_type": "stream",
     "text": [
      "Epoch 1/40\n",
      "\u001b[1m439/625\u001b[0m \u001b[32m━━━━━━━━━━━━━━\u001b[0m\u001b[37m━━━━━━\u001b[0m \u001b[1m3:48\u001b[0m 1s/step - accuracy: 0.3595 - loss: 5.6022"
     ]
    },
    {
     "ename": "KeyboardInterrupt",
     "evalue": "",
     "output_type": "error",
     "traceback": [
      "\u001b[1;31m---------------------------------------------------------------------------\u001b[0m",
      "\u001b[1;31mKeyboardInterrupt\u001b[0m                         Traceback (most recent call last)",
      "Cell \u001b[1;32mIn[189], line 8\u001b[0m\n\u001b[0;32m      1\u001b[0m \u001b[38;5;66;03m# 캐라스의 콜백 중 모델의 학습 정도에 따라 동적 학습률을 조정하는 ReduceROnPlateau를 사용\u001b[39;00m\n\u001b[0;32m      2\u001b[0m \u001b[38;5;66;03m# 학습 과정에서 정체되거나 개선이 더디게 진행될 때, 학습률을 줄여서 좀 더 세밀한 학습이 이뤄지도록 한다.\u001b[39;00m\n\u001b[0;32m      3\u001b[0m \u001b[38;5;66;03m# monitor 인수는 모델링할 지표를 지정하며, 거기에서는 검증 손실 값에 집중한다.\u001b[39;00m\n\u001b[0;32m      4\u001b[0m \u001b[38;5;66;03m# factor는 학습률에 곱할 값을 의미, 이 값이 0.5인 경우 기존 학습률에 0.5를 곱하여 값을 반으로 축소한다.\u001b[39;00m\n\u001b[0;32m      5\u001b[0m reduce_lr \u001b[38;5;241m=\u001b[39m ReduceLROnPlateau(\n\u001b[0;32m      6\u001b[0m     monitor\u001b[38;5;241m=\u001b[39m\u001b[38;5;124m\"\u001b[39m\u001b[38;5;124mval_loss\u001b[39m\u001b[38;5;124m\"\u001b[39m, factor\u001b[38;5;241m=\u001b[39m\u001b[38;5;241m0.5\u001b[39m, patience\u001b[38;5;241m=\u001b[39m\u001b[38;5;241m4\u001b[39m, min_lr\u001b[38;5;241m=\u001b[39m\u001b[38;5;241m1e-7\u001b[39m, verbose\u001b[38;5;241m=\u001b[39m\u001b[38;5;241m1\u001b[39m\n\u001b[0;32m      7\u001b[0m )\n\u001b[1;32m----> 8\u001b[0m history \u001b[38;5;241m=\u001b[39m googlenet\u001b[38;5;241m.\u001b[39mfit(\n\u001b[0;32m      9\u001b[0m     x\u001b[38;5;241m=\u001b[39mtrain_x,\n\u001b[0;32m     10\u001b[0m     y\u001b[38;5;241m=\u001b[39mtrain_y,\n\u001b[0;32m     11\u001b[0m     batch_size\u001b[38;5;241m=\u001b[39mbatch_size,\n\u001b[0;32m     12\u001b[0m     epochs\u001b[38;5;241m=\u001b[39mepochs,\n\u001b[0;32m     13\u001b[0m     validation_split\u001b[38;5;241m=\u001b[39m\u001b[38;5;241m0.2\u001b[39m,\n\u001b[0;32m     14\u001b[0m     callbacks\u001b[38;5;241m=\u001b[39m[reduce_lr],\n\u001b[0;32m     15\u001b[0m )\n",
      "File \u001b[1;32mC:\\Anaconda\\Lib\\site-packages\\keras\\src\\utils\\traceback_utils.py:117\u001b[0m, in \u001b[0;36mfilter_traceback.<locals>.error_handler\u001b[1;34m(*args, **kwargs)\u001b[0m\n\u001b[0;32m    115\u001b[0m filtered_tb \u001b[38;5;241m=\u001b[39m \u001b[38;5;28;01mNone\u001b[39;00m\n\u001b[0;32m    116\u001b[0m \u001b[38;5;28;01mtry\u001b[39;00m:\n\u001b[1;32m--> 117\u001b[0m     \u001b[38;5;28;01mreturn\u001b[39;00m fn(\u001b[38;5;241m*\u001b[39margs, \u001b[38;5;241m*\u001b[39m\u001b[38;5;241m*\u001b[39mkwargs)\n\u001b[0;32m    118\u001b[0m \u001b[38;5;28;01mexcept\u001b[39;00m \u001b[38;5;167;01mException\u001b[39;00m \u001b[38;5;28;01mas\u001b[39;00m e:\n\u001b[0;32m    119\u001b[0m     filtered_tb \u001b[38;5;241m=\u001b[39m _process_traceback_frames(e\u001b[38;5;241m.\u001b[39m__traceback__)\n",
      "File \u001b[1;32mC:\\Anaconda\\Lib\\site-packages\\keras\\src\\backend\\tensorflow\\trainer.py:371\u001b[0m, in \u001b[0;36mTensorFlowTrainer.fit\u001b[1;34m(self, x, y, batch_size, epochs, verbose, callbacks, validation_split, validation_data, shuffle, class_weight, sample_weight, initial_epoch, steps_per_epoch, validation_steps, validation_batch_size, validation_freq)\u001b[0m\n\u001b[0;32m    369\u001b[0m \u001b[38;5;28;01mfor\u001b[39;00m step, iterator \u001b[38;5;129;01min\u001b[39;00m epoch_iterator:\n\u001b[0;32m    370\u001b[0m     callbacks\u001b[38;5;241m.\u001b[39mon_train_batch_begin(step)\n\u001b[1;32m--> 371\u001b[0m     logs \u001b[38;5;241m=\u001b[39m \u001b[38;5;28mself\u001b[39m\u001b[38;5;241m.\u001b[39mtrain_function(iterator)\n\u001b[0;32m    372\u001b[0m     callbacks\u001b[38;5;241m.\u001b[39mon_train_batch_end(step, logs)\n\u001b[0;32m    373\u001b[0m     \u001b[38;5;28;01mif\u001b[39;00m \u001b[38;5;28mself\u001b[39m\u001b[38;5;241m.\u001b[39mstop_training:\n",
      "File \u001b[1;32mC:\\Anaconda\\Lib\\site-packages\\keras\\src\\backend\\tensorflow\\trainer.py:219\u001b[0m, in \u001b[0;36mTensorFlowTrainer._make_function.<locals>.function\u001b[1;34m(iterator)\u001b[0m\n\u001b[0;32m    215\u001b[0m \u001b[38;5;28;01mdef\u001b[39;00m\u001b[38;5;250m \u001b[39m\u001b[38;5;21mfunction\u001b[39m(iterator):\n\u001b[0;32m    216\u001b[0m     \u001b[38;5;28;01mif\u001b[39;00m \u001b[38;5;28misinstance\u001b[39m(\n\u001b[0;32m    217\u001b[0m         iterator, (tf\u001b[38;5;241m.\u001b[39mdata\u001b[38;5;241m.\u001b[39mIterator, tf\u001b[38;5;241m.\u001b[39mdistribute\u001b[38;5;241m.\u001b[39mDistributedIterator)\n\u001b[0;32m    218\u001b[0m     ):\n\u001b[1;32m--> 219\u001b[0m         opt_outputs \u001b[38;5;241m=\u001b[39m multi_step_on_iterator(iterator)\n\u001b[0;32m    220\u001b[0m         \u001b[38;5;28;01mif\u001b[39;00m \u001b[38;5;129;01mnot\u001b[39;00m opt_outputs\u001b[38;5;241m.\u001b[39mhas_value():\n\u001b[0;32m    221\u001b[0m             \u001b[38;5;28;01mraise\u001b[39;00m \u001b[38;5;167;01mStopIteration\u001b[39;00m\n",
      "File \u001b[1;32mC:\\Anaconda\\Lib\\site-packages\\tensorflow\\python\\util\\traceback_utils.py:150\u001b[0m, in \u001b[0;36mfilter_traceback.<locals>.error_handler\u001b[1;34m(*args, **kwargs)\u001b[0m\n\u001b[0;32m    148\u001b[0m filtered_tb \u001b[38;5;241m=\u001b[39m \u001b[38;5;28;01mNone\u001b[39;00m\n\u001b[0;32m    149\u001b[0m \u001b[38;5;28;01mtry\u001b[39;00m:\n\u001b[1;32m--> 150\u001b[0m   \u001b[38;5;28;01mreturn\u001b[39;00m fn(\u001b[38;5;241m*\u001b[39margs, \u001b[38;5;241m*\u001b[39m\u001b[38;5;241m*\u001b[39mkwargs)\n\u001b[0;32m    151\u001b[0m \u001b[38;5;28;01mexcept\u001b[39;00m \u001b[38;5;167;01mException\u001b[39;00m \u001b[38;5;28;01mas\u001b[39;00m e:\n\u001b[0;32m    152\u001b[0m   filtered_tb \u001b[38;5;241m=\u001b[39m _process_traceback_frames(e\u001b[38;5;241m.\u001b[39m__traceback__)\n",
      "File \u001b[1;32mC:\\Anaconda\\Lib\\site-packages\\tensorflow\\python\\eager\\polymorphic_function\\polymorphic_function.py:833\u001b[0m, in \u001b[0;36mFunction.__call__\u001b[1;34m(self, *args, **kwds)\u001b[0m\n\u001b[0;32m    830\u001b[0m compiler \u001b[38;5;241m=\u001b[39m \u001b[38;5;124m\"\u001b[39m\u001b[38;5;124mxla\u001b[39m\u001b[38;5;124m\"\u001b[39m \u001b[38;5;28;01mif\u001b[39;00m \u001b[38;5;28mself\u001b[39m\u001b[38;5;241m.\u001b[39m_jit_compile \u001b[38;5;28;01melse\u001b[39;00m \u001b[38;5;124m\"\u001b[39m\u001b[38;5;124mnonXla\u001b[39m\u001b[38;5;124m\"\u001b[39m\n\u001b[0;32m    832\u001b[0m \u001b[38;5;28;01mwith\u001b[39;00m OptionalXlaContext(\u001b[38;5;28mself\u001b[39m\u001b[38;5;241m.\u001b[39m_jit_compile):\n\u001b[1;32m--> 833\u001b[0m   result \u001b[38;5;241m=\u001b[39m \u001b[38;5;28mself\u001b[39m\u001b[38;5;241m.\u001b[39m_call(\u001b[38;5;241m*\u001b[39margs, \u001b[38;5;241m*\u001b[39m\u001b[38;5;241m*\u001b[39mkwds)\n\u001b[0;32m    835\u001b[0m new_tracing_count \u001b[38;5;241m=\u001b[39m \u001b[38;5;28mself\u001b[39m\u001b[38;5;241m.\u001b[39mexperimental_get_tracing_count()\n\u001b[0;32m    836\u001b[0m without_tracing \u001b[38;5;241m=\u001b[39m (tracing_count \u001b[38;5;241m==\u001b[39m new_tracing_count)\n",
      "File \u001b[1;32mC:\\Anaconda\\Lib\\site-packages\\tensorflow\\python\\eager\\polymorphic_function\\polymorphic_function.py:878\u001b[0m, in \u001b[0;36mFunction._call\u001b[1;34m(self, *args, **kwds)\u001b[0m\n\u001b[0;32m    875\u001b[0m \u001b[38;5;28mself\u001b[39m\u001b[38;5;241m.\u001b[39m_lock\u001b[38;5;241m.\u001b[39mrelease()\n\u001b[0;32m    876\u001b[0m \u001b[38;5;66;03m# In this case we have not created variables on the first call. So we can\u001b[39;00m\n\u001b[0;32m    877\u001b[0m \u001b[38;5;66;03m# run the first trace but we should fail if variables are created.\u001b[39;00m\n\u001b[1;32m--> 878\u001b[0m results \u001b[38;5;241m=\u001b[39m tracing_compilation\u001b[38;5;241m.\u001b[39mcall_function(\n\u001b[0;32m    879\u001b[0m     args, kwds, \u001b[38;5;28mself\u001b[39m\u001b[38;5;241m.\u001b[39m_variable_creation_config\n\u001b[0;32m    880\u001b[0m )\n\u001b[0;32m    881\u001b[0m \u001b[38;5;28;01mif\u001b[39;00m \u001b[38;5;28mself\u001b[39m\u001b[38;5;241m.\u001b[39m_created_variables:\n\u001b[0;32m    882\u001b[0m   \u001b[38;5;28;01mraise\u001b[39;00m \u001b[38;5;167;01mValueError\u001b[39;00m(\u001b[38;5;124m\"\u001b[39m\u001b[38;5;124mCreating variables on a non-first call to a function\u001b[39m\u001b[38;5;124m\"\u001b[39m\n\u001b[0;32m    883\u001b[0m                    \u001b[38;5;124m\"\u001b[39m\u001b[38;5;124m decorated with tf.function.\u001b[39m\u001b[38;5;124m\"\u001b[39m)\n",
      "File \u001b[1;32mC:\\Anaconda\\Lib\\site-packages\\tensorflow\\python\\eager\\polymorphic_function\\tracing_compilation.py:139\u001b[0m, in \u001b[0;36mcall_function\u001b[1;34m(args, kwargs, tracing_options)\u001b[0m\n\u001b[0;32m    137\u001b[0m bound_args \u001b[38;5;241m=\u001b[39m function\u001b[38;5;241m.\u001b[39mfunction_type\u001b[38;5;241m.\u001b[39mbind(\u001b[38;5;241m*\u001b[39margs, \u001b[38;5;241m*\u001b[39m\u001b[38;5;241m*\u001b[39mkwargs)\n\u001b[0;32m    138\u001b[0m flat_inputs \u001b[38;5;241m=\u001b[39m function\u001b[38;5;241m.\u001b[39mfunction_type\u001b[38;5;241m.\u001b[39munpack_inputs(bound_args)\n\u001b[1;32m--> 139\u001b[0m \u001b[38;5;28;01mreturn\u001b[39;00m function\u001b[38;5;241m.\u001b[39m_call_flat(  \u001b[38;5;66;03m# pylint: disable=protected-access\u001b[39;00m\n\u001b[0;32m    140\u001b[0m     flat_inputs, captured_inputs\u001b[38;5;241m=\u001b[39mfunction\u001b[38;5;241m.\u001b[39mcaptured_inputs\n\u001b[0;32m    141\u001b[0m )\n",
      "File \u001b[1;32mC:\\Anaconda\\Lib\\site-packages\\tensorflow\\python\\eager\\polymorphic_function\\concrete_function.py:1322\u001b[0m, in \u001b[0;36mConcreteFunction._call_flat\u001b[1;34m(self, tensor_inputs, captured_inputs)\u001b[0m\n\u001b[0;32m   1318\u001b[0m possible_gradient_type \u001b[38;5;241m=\u001b[39m gradients_util\u001b[38;5;241m.\u001b[39mPossibleTapeGradientTypes(args)\n\u001b[0;32m   1319\u001b[0m \u001b[38;5;28;01mif\u001b[39;00m (possible_gradient_type \u001b[38;5;241m==\u001b[39m gradients_util\u001b[38;5;241m.\u001b[39mPOSSIBLE_GRADIENT_TYPES_NONE\n\u001b[0;32m   1320\u001b[0m     \u001b[38;5;129;01mand\u001b[39;00m executing_eagerly):\n\u001b[0;32m   1321\u001b[0m   \u001b[38;5;66;03m# No tape is watching; skip to running the function.\u001b[39;00m\n\u001b[1;32m-> 1322\u001b[0m   \u001b[38;5;28;01mreturn\u001b[39;00m \u001b[38;5;28mself\u001b[39m\u001b[38;5;241m.\u001b[39m_inference_function\u001b[38;5;241m.\u001b[39mcall_preflattened(args)\n\u001b[0;32m   1323\u001b[0m forward_backward \u001b[38;5;241m=\u001b[39m \u001b[38;5;28mself\u001b[39m\u001b[38;5;241m.\u001b[39m_select_forward_and_backward_functions(\n\u001b[0;32m   1324\u001b[0m     args,\n\u001b[0;32m   1325\u001b[0m     possible_gradient_type,\n\u001b[0;32m   1326\u001b[0m     executing_eagerly)\n\u001b[0;32m   1327\u001b[0m forward_function, args_with_tangents \u001b[38;5;241m=\u001b[39m forward_backward\u001b[38;5;241m.\u001b[39mforward()\n",
      "File \u001b[1;32mC:\\Anaconda\\Lib\\site-packages\\tensorflow\\python\\eager\\polymorphic_function\\atomic_function.py:216\u001b[0m, in \u001b[0;36mAtomicFunction.call_preflattened\u001b[1;34m(self, args)\u001b[0m\n\u001b[0;32m    214\u001b[0m \u001b[38;5;28;01mdef\u001b[39;00m\u001b[38;5;250m \u001b[39m\u001b[38;5;21mcall_preflattened\u001b[39m(\u001b[38;5;28mself\u001b[39m, args: Sequence[core\u001b[38;5;241m.\u001b[39mTensor]) \u001b[38;5;241m-\u001b[39m\u001b[38;5;241m>\u001b[39m Any:\n\u001b[0;32m    215\u001b[0m \u001b[38;5;250m  \u001b[39m\u001b[38;5;124;03m\"\"\"Calls with flattened tensor inputs and returns the structured output.\"\"\"\u001b[39;00m\n\u001b[1;32m--> 216\u001b[0m   flat_outputs \u001b[38;5;241m=\u001b[39m \u001b[38;5;28mself\u001b[39m\u001b[38;5;241m.\u001b[39mcall_flat(\u001b[38;5;241m*\u001b[39margs)\n\u001b[0;32m    217\u001b[0m   \u001b[38;5;28;01mreturn\u001b[39;00m \u001b[38;5;28mself\u001b[39m\u001b[38;5;241m.\u001b[39mfunction_type\u001b[38;5;241m.\u001b[39mpack_output(flat_outputs)\n",
      "File \u001b[1;32mC:\\Anaconda\\Lib\\site-packages\\tensorflow\\python\\eager\\polymorphic_function\\atomic_function.py:251\u001b[0m, in \u001b[0;36mAtomicFunction.call_flat\u001b[1;34m(self, *args)\u001b[0m\n\u001b[0;32m    249\u001b[0m \u001b[38;5;28;01mwith\u001b[39;00m record\u001b[38;5;241m.\u001b[39mstop_recording():\n\u001b[0;32m    250\u001b[0m   \u001b[38;5;28;01mif\u001b[39;00m \u001b[38;5;28mself\u001b[39m\u001b[38;5;241m.\u001b[39m_bound_context\u001b[38;5;241m.\u001b[39mexecuting_eagerly():\n\u001b[1;32m--> 251\u001b[0m     outputs \u001b[38;5;241m=\u001b[39m \u001b[38;5;28mself\u001b[39m\u001b[38;5;241m.\u001b[39m_bound_context\u001b[38;5;241m.\u001b[39mcall_function(\n\u001b[0;32m    252\u001b[0m         \u001b[38;5;28mself\u001b[39m\u001b[38;5;241m.\u001b[39mname,\n\u001b[0;32m    253\u001b[0m         \u001b[38;5;28mlist\u001b[39m(args),\n\u001b[0;32m    254\u001b[0m         \u001b[38;5;28mlen\u001b[39m(\u001b[38;5;28mself\u001b[39m\u001b[38;5;241m.\u001b[39mfunction_type\u001b[38;5;241m.\u001b[39mflat_outputs),\n\u001b[0;32m    255\u001b[0m     )\n\u001b[0;32m    256\u001b[0m   \u001b[38;5;28;01melse\u001b[39;00m:\n\u001b[0;32m    257\u001b[0m     outputs \u001b[38;5;241m=\u001b[39m make_call_op_in_graph(\n\u001b[0;32m    258\u001b[0m         \u001b[38;5;28mself\u001b[39m,\n\u001b[0;32m    259\u001b[0m         \u001b[38;5;28mlist\u001b[39m(args),\n\u001b[0;32m    260\u001b[0m         \u001b[38;5;28mself\u001b[39m\u001b[38;5;241m.\u001b[39m_bound_context\u001b[38;5;241m.\u001b[39mfunction_call_options\u001b[38;5;241m.\u001b[39mas_attrs(),\n\u001b[0;32m    261\u001b[0m     )\n",
      "File \u001b[1;32mC:\\Anaconda\\Lib\\site-packages\\tensorflow\\python\\eager\\context.py:1683\u001b[0m, in \u001b[0;36mContext.call_function\u001b[1;34m(self, name, tensor_inputs, num_outputs)\u001b[0m\n\u001b[0;32m   1681\u001b[0m cancellation_context \u001b[38;5;241m=\u001b[39m cancellation\u001b[38;5;241m.\u001b[39mcontext()\n\u001b[0;32m   1682\u001b[0m \u001b[38;5;28;01mif\u001b[39;00m cancellation_context \u001b[38;5;129;01mis\u001b[39;00m \u001b[38;5;28;01mNone\u001b[39;00m:\n\u001b[1;32m-> 1683\u001b[0m   outputs \u001b[38;5;241m=\u001b[39m execute\u001b[38;5;241m.\u001b[39mexecute(\n\u001b[0;32m   1684\u001b[0m       name\u001b[38;5;241m.\u001b[39mdecode(\u001b[38;5;124m\"\u001b[39m\u001b[38;5;124mutf-8\u001b[39m\u001b[38;5;124m\"\u001b[39m),\n\u001b[0;32m   1685\u001b[0m       num_outputs\u001b[38;5;241m=\u001b[39mnum_outputs,\n\u001b[0;32m   1686\u001b[0m       inputs\u001b[38;5;241m=\u001b[39mtensor_inputs,\n\u001b[0;32m   1687\u001b[0m       attrs\u001b[38;5;241m=\u001b[39mattrs,\n\u001b[0;32m   1688\u001b[0m       ctx\u001b[38;5;241m=\u001b[39m\u001b[38;5;28mself\u001b[39m,\n\u001b[0;32m   1689\u001b[0m   )\n\u001b[0;32m   1690\u001b[0m \u001b[38;5;28;01melse\u001b[39;00m:\n\u001b[0;32m   1691\u001b[0m   outputs \u001b[38;5;241m=\u001b[39m execute\u001b[38;5;241m.\u001b[39mexecute_with_cancellation(\n\u001b[0;32m   1692\u001b[0m       name\u001b[38;5;241m.\u001b[39mdecode(\u001b[38;5;124m\"\u001b[39m\u001b[38;5;124mutf-8\u001b[39m\u001b[38;5;124m\"\u001b[39m),\n\u001b[0;32m   1693\u001b[0m       num_outputs\u001b[38;5;241m=\u001b[39mnum_outputs,\n\u001b[1;32m   (...)\u001b[0m\n\u001b[0;32m   1697\u001b[0m       cancellation_manager\u001b[38;5;241m=\u001b[39mcancellation_context,\n\u001b[0;32m   1698\u001b[0m   )\n",
      "File \u001b[1;32mC:\\Anaconda\\Lib\\site-packages\\tensorflow\\python\\eager\\execute.py:53\u001b[0m, in \u001b[0;36mquick_execute\u001b[1;34m(op_name, num_outputs, inputs, attrs, ctx, name)\u001b[0m\n\u001b[0;32m     51\u001b[0m \u001b[38;5;28;01mtry\u001b[39;00m:\n\u001b[0;32m     52\u001b[0m   ctx\u001b[38;5;241m.\u001b[39mensure_initialized()\n\u001b[1;32m---> 53\u001b[0m   tensors \u001b[38;5;241m=\u001b[39m pywrap_tfe\u001b[38;5;241m.\u001b[39mTFE_Py_Execute(ctx\u001b[38;5;241m.\u001b[39m_handle, device_name, op_name,\n\u001b[0;32m     54\u001b[0m                                       inputs, attrs, num_outputs)\n\u001b[0;32m     55\u001b[0m \u001b[38;5;28;01mexcept\u001b[39;00m core\u001b[38;5;241m.\u001b[39m_NotOkStatusException \u001b[38;5;28;01mas\u001b[39;00m e:\n\u001b[0;32m     56\u001b[0m   \u001b[38;5;28;01mif\u001b[39;00m name \u001b[38;5;129;01mis\u001b[39;00m \u001b[38;5;129;01mnot\u001b[39;00m \u001b[38;5;28;01mNone\u001b[39;00m:\n",
      "\u001b[1;31mKeyboardInterrupt\u001b[0m: "
     ]
    }
   ],
   "source": [
    "# 캐라스의 콜백 중 모델의 학습 정도에 따라 동적 학습률을 조정하는 ReduceROnPlateau를 사용\n",
    "# 학습 과정에서 정체되거나 개선이 더디게 진행될 때, 학습률을 줄여서 좀 더 세밀한 학습이 이뤄지도록 한다.\n",
    "# monitor 인수는 모델링할 지표를 지정하며, 거기에서는 검증 손실 값에 집중한다.\n",
    "# factor는 학습률에 곱할 값을 의미, 이 값이 0.5인 경우 기존 학습률에 0.5를 곱하여 값을 반으로 축소한다.\n",
    "reduce_lr = ReduceLROnPlateau(\n",
    "    monitor=\"val_loss\", factor=0.5, patience=4, min_lr=1e-7, verbose=1\n",
    ")\n",
    "history = googlenet.fit(\n",
    "    x=train_x,\n",
    "    y=train_y,\n",
    "    batch_size=batch_size,\n",
    "    epochs=epochs,\n",
    "    validation_split=0.2,\n",
    "    callbacks=[reduce_lr],\n",
    ")\n"
   ]
  },
  {
   "cell_type": "code",
   "execution_count": 190,
   "metadata": {},
   "outputs": [],
   "source": [
    "from tensorflow.keras.models import load_model\n",
    "\n",
    "googlenet = load_model('googlenet_model.keras')"
   ]
  },
  {
   "cell_type": "code",
   "execution_count": 191,
   "metadata": {},
   "outputs": [
    {
     "name": "stdout",
     "output_type": "stream",
     "text": [
      "\u001b[1m313/313\u001b[0m \u001b[32m━━━━━━━━━━━━━━━━━━━━\u001b[0m\u001b[37m\u001b[0m \u001b[1m102s\u001b[0m 301ms/step - accuracy: 0.8884 - loss: 0.7778\n"
     ]
    },
    {
     "data": {
      "text/plain": [
       "[0.7864517569541931, 0.8859000205993652]"
      ]
     },
     "execution_count": 191,
     "metadata": {},
     "output_type": "execute_result"
    }
   ],
   "source": [
    "# 테스트 셋으로 평가 \n",
    "googlenet.evaluate(test_x, test_y)"
   ]
  },
  {
   "cell_type": "code",
   "execution_count": 193,
   "metadata": {},
   "outputs": [
    {
     "name": "stdout",
     "output_type": "stream",
     "text": [
      "\u001b[1m1/1\u001b[0m \u001b[32m━━━━━━━━━━━━━━━━━━━━\u001b[0m\u001b[37m\u001b[0m \u001b[1m0s\u001b[0m 68ms/step\n"
     ]
    },
    {
     "data": {
      "image/png": "[encoded data removed]",
      "text/plain": [
       "<Figure size 640x480 with 1 Axes>"
      ]
     },
     "metadata": {},
     "output_type": "display_data"
    }
   ],
   "source": [
    "import numpy as np\n",
    "import matplotlib.pyplot as plt\n",
    "import random\n",
    "\n",
    "\n",
    "# 테스트 데이터에서 임의의 이미지 선택\n",
    "random_index = random.randint(0, len(test_x) - 1)\n",
    "image = test_x[random_index]  # 원본 이미지\n",
    "label = test_y[random_index]  # 실제 라벨\n",
    "\n",
    "\n",
    "# 모델 입력 형식에 맞게 차원 확장 (배치 차원 추가)\n",
    "image_expanded = np.expand_dims(image, axis=0)  # (32, 32, 3) → (1, 32, 32, 3)\n",
    "\n",
    "\n",
    "# 모델 예측 수행\n",
    "predictions = googlenet.predict(image_expanded)\n",
    "predicted_class = np.argmax(predictions)  # 가장 확률이 높은 클래스 선택\n",
    "\n",
    "\n",
    "# CIFAR-10 클래스 이름\n",
    "class_names = [\n",
    "    \"airplane\",\n",
    "    \"automobile\",\n",
    "    \"bird\",\n",
    "    \"cat\",\n",
    "    \"deer\",\n",
    "    \"dog\",\n",
    "    \"frog\",\n",
    "    \"horse\",\n",
    "    \"ship\",\n",
    "    \"truck\",\n",
    "]\n",
    "\n",
    "\n",
    "# 결과 출력\n",
    "plt.imshow(image)\n",
    "plt.title(f\"Actual: {class_names[label[0]]}\\nPredicted: {class_names[predicted_class]}\")\n",
    "plt.axis(\"off\")\n",
    "plt.show()\n"
   ]
  },
  {
   "cell_type": "code",
   "execution_count": null,
   "metadata": {},
   "outputs": [],
   "source": []
  }
 ],
 "metadata": {
  "kernelspec": {
   "display_name": "Python 3 (ipykernel)",
   "language": "python",
   "name": "python3"
  },
  "language_info": {
   "codemirror_mode": {
    "name": "ipython",
    "version": 3
   },
   "file_extension": ".py",
   "mimetype": "text/x-python",
   "name": "python",
   "nbconvert_exporter": "python",
   "pygments_lexer": "ipython3",
   "version": "3.12.7"
  }
 },
 "nbformat": 4,
 "nbformat_minor": 2
}
